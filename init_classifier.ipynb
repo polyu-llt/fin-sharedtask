{
 "cells": [
  {
   "cell_type": "code",
   "execution_count": 18,
   "metadata": {},
   "outputs": [],
   "source": [
    "\n",
    "def make_sets(file):\n",
    "    Y_set = []\n",
    "    X_set = []\n",
    "\n",
    "    test = list(open(file, \"r\", encoding='utf-8').readlines())\n",
    "    test = [s.strip() for s in test]\n",
    "    all_set = [x.replace('_Enter', '') for x in test]\n",
    "\n",
    "\n",
    "    for line in all_set:    \n",
    "        if '_END' in line:\n",
    "            Y_set.append('END')\n",
    "        elif '_BEGIN' in line:\n",
    "            Y_set.append('BEGIN')\n",
    "        else:\n",
    "            Y_set.append('_')\n",
    "\n",
    "    X_set = [x.replace('_END', '').replace('_BEGIN','') for x in all_set]\n",
    "    \n",
    "    print (\"length of X: \", len(X_set), \"length of Y: \", len(Y_set))\n",
    "    return(X_set, Y_set)\n",
    "\n"
   ]
  },
  {
   "cell_type": "markdown",
   "metadata": {},
   "source": [
    "Uploading data into sets:"
   ]
  },
  {
   "cell_type": "code",
   "execution_count": 19,
   "metadata": {},
   "outputs": [
    {
     "name": "stdout",
     "output_type": "stream",
     "text": [
      "length of X:  49859 length of Y:  49859\n",
      "length of X:  904057 length of Y:  904057\n"
     ]
    }
   ],
   "source": [
    "test_file = \"Dev_en_new_labelled.txt\"\n",
    "train_file = \"Train_en_new_labelled.txt\"\n",
    "\n",
    "X_test, Y_test = make_sets(test_file)\n",
    "X_train, Y_train = make_sets(train_file)"
   ]
  },
  {
   "cell_type": "code",
   "execution_count": 22,
   "metadata": {},
   "outputs": [
    {
     "name": "stdout",
     "output_type": "stream",
     "text": [
      "(904057, 9719)\n",
      "(49859, 9719)\n"
     ]
    }
   ],
   "source": [
    "all_X = X_train + X_test # merge text for countvectorizer\n",
    "\n",
    "from sklearn.feature_extraction.text import CountVectorizer\n",
    "\n",
    "count_vect = CountVectorizer()\n",
    "X_counts = count_vect.fit(all_X)\n",
    "\n",
    "xtrain_count =  count_vect.transform(X_train)\n",
    "xvalid_count =  count_vect.transform(X_test)\n",
    "\n",
    "print(xtrain_count.shape)\n",
    "print(xvalid_count.shape)\n",
    "X_test_counts = count_vect.fit_transform(X_test)"
   ]
  },
  {
   "cell_type": "code",
   "execution_count": null,
   "metadata": {},
   "outputs": [
    {
     "name": "stderr",
     "output_type": "stream",
     "text": [
      "/usr/local/lib/python3.6/dist-packages/sklearn/linear_model/logistic.py:433: FutureWarning: Default solver will be changed to 'lbfgs' in 0.22. Specify a solver to silence this warning.\n",
      "  FutureWarning)\n",
      "/usr/local/lib/python3.6/dist-packages/sklearn/linear_model/logistic.py:460: FutureWarning: Default multi_class will be changed to 'auto' in 0.22. Specify the multi_class option to silence this warning.\n",
      "  \"this warning.\", FutureWarning)\n"
     ]
    },
    {
     "name": "stdout",
     "output_type": "stream",
     "text": [
      "countvec+ Logistic regression:  0.9447842917026014\n"
     ]
    }
   ],
   "source": [
    "from sklearn.naive_bayes import MultinomialNB\n",
    "from sklearn import neighbors\n",
    "from sklearn.svm import SVC, LinearSVC\n",
    "from sklearn.linear_model import LogisticRegression\n",
    "import numpy as np\n",
    "\n",
    "clf_logreg = LogisticRegression()\n",
    "clf_logreg.fit(xtrain_count, Y_train)\n",
    "print (\"countvec+ Logistic regression: \", clf_logreg.score(xvalid_count, Y_test) )\n",
    "\n",
    "\n",
    "########\n",
    "clf_svc = LinearSVC()\n",
    "clf_svc.fit(xtrain_count, Y_train)\n",
    "print (\"count_vec + Support Vector Machines: \", clf_svc.score(xvalid_count, Y_test) )\n",
    "########\n",
    "clf_nei = neighbors.KNeighborsClassifier()\n",
    "clf_nei.fit(xtrain_count, Y_train)\n",
    "print (\"count_vec + Nearest neighbours: \", clf_nei.score(xvalid_count, Y_test), \"\\n\" )"
   ]
  },
  {
   "cell_type": "code",
   "execution_count": null,
   "metadata": {},
   "outputs": [],
   "source": []
  }
 ],
 "metadata": {
  "kernelspec": {
   "display_name": "Python 3",
   "language": "python",
   "name": "python3"
  },
  "language_info": {
   "codemirror_mode": {
    "name": "ipython",
    "version": 3
   },
   "file_extension": ".py",
   "mimetype": "text/x-python",
   "name": "python",
   "nbconvert_exporter": "python",
   "pygments_lexer": "ipython3",
   "version": "3.6.5"
  }
 },
 "nbformat": 4,
 "nbformat_minor": 2
}
