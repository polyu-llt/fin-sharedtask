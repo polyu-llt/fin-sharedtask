{
  "nbformat": 4,
  "nbformat_minor": 0,
  "metadata": {
    "colab": {
      "name": "classifier5_tfidf_cnn.ipynb",
      "version": "0.3.2",
      "provenance": [],
      "collapsed_sections": [],
      "include_colab_link": true
    },
    "kernelspec": {
      "name": "python3",
      "display_name": "Python 3"
    }
  },
  "cells": [
    {
      "cell_type": "markdown",
      "metadata": {
        "id": "view-in-github",
        "colab_type": "text"
      },
      "source": [
        "<a href=\"https://colab.research.google.com/github/polyu-llt/fin-sharedtask/blob/master/classifier5_tfidf_cnn.ipynb\" target=\"_parent\"><img src=\"https://colab.research.google.com/assets/colab-badge.svg\" alt=\"Open In Colab\"/></a>"
      ]
    },
    {
      "cell_type": "code",
      "metadata": {
        "id": "qiLunvc6jZsT",
        "colab_type": "code",
        "colab": {}
      },
      "source": [
        "from nltk import pos_tag, word_tokenize #Run `python3 -m nltk.downloader averaged_perceptron_tagger` before\n",
        "\n",
        "\n",
        "def tag_text(words_set):\n",
        "    postag_column = pos_tag(words_set)\n",
        "    #print (postag_column)\n",
        "    words, pos = zip(*postag_column) #(from https://stackoverflow.com/questions/42003418/getting-a-list-of-pos-tags-only-from-the-tuples-of-word-pos-tag)\n",
        "    print (len(pos))\n",
        "    return(pos)"
      ],
      "execution_count": 0,
      "outputs": []
    },
    {
      "cell_type": "code",
      "metadata": {
        "id": "1vkC6Fxf2FX-",
        "colab_type": "code",
        "colab": {}
      },
      "source": [
        "\n",
        "\n",
        "def make_sets(file):\n",
        "    Y_set = []\n",
        "    X_set = []\n",
        "\n",
        "    test = list(open(file, \"r\", encoding='utf-8').readlines())\n",
        "    test = [s.strip() for s in test]\n",
        "    all_set = [x.replace('_Enter', '') for x in test]\n",
        "\n",
        "\n",
        "    for line in all_set:    \n",
        "        if '_END' in line:\n",
        "            Y_set.append('END')\n",
        "        elif '_BEGIN' in line:\n",
        "            Y_set.append('BEGIN')\n",
        "        else:\n",
        "            Y_set.append('_')\n",
        "\n",
        "    X_set = [x.replace('_END', '').replace('_BEGIN','') for x in all_set]\n",
        "    #X_tags = tag_text(X_set)\n",
        "    \n",
        "    print (\"length of X: \", len(X_set), \"length of Y: \", len(Y_set))\n",
        "    return(X_set, Y_set)\n",
        "\n",
        "\n"
      ],
      "execution_count": 0,
      "outputs": []
    },
    {
      "cell_type": "code",
      "metadata": {
        "id": "jpPhMe6_3IMp",
        "colab_type": "code",
        "outputId": "9b7940c5-0be2-43ca-f379-38f3015f8578",
        "colab": {
          "resources": {
            "http://localhost:8080/nbextensions/google.colab/files.js": {
              "data": "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",
              "ok": true,
              "headers": [
                [
                  "content-type",
                  "application/javascript"
                ]
              ],
              "status": 200,
              "status_text": "OK"
            }
          },
          "base_uri": "https://localhost:8080/",
          "height": 85
        }
      },
      "source": [
        "\n",
        "from google.colab import files\n",
        "uploaded = files.upload()"
      ],
      "execution_count": 6,
      "outputs": [
        {
          "output_type": "display_data",
          "data": {
            "text/html": [
              "\n",
              "     <input type=\"file\" id=\"files-5df9ff78-fc87-4d4c-b9aa-616e0b33e2ea\" name=\"files[]\" multiple disabled />\n",
              "     <output id=\"result-5df9ff78-fc87-4d4c-b9aa-616e0b33e2ea\">\n",
              "      Upload widget is only available when the cell has been executed in the\n",
              "      current browser session. Please rerun this cell to enable.\n",
              "      </output>\n",
              "      <script src=\"/nbextensions/google.colab/files.js\"></script> "
            ],
            "text/plain": [
              "<IPython.core.display.HTML object>"
            ]
          },
          "metadata": {
            "tags": []
          }
        },
        {
          "output_type": "stream",
          "text": [
            "Saving Dev_en_new_labelled.txt to Dev_en_new_labelled.txt\n"
          ],
          "name": "stdout"
        }
      ]
    },
    {
      "cell_type": "code",
      "metadata": {
        "id": "BYgXGSSg2dnJ",
        "colab_type": "code",
        "outputId": "d0ca6af2-bc0b-4246-9edd-9dfafb03f26f",
        "colab": {
          "base_uri": "https://localhost:8080/",
          "height": 52
        }
      },
      "source": [
        "test_file = \"Dev_en_new_labelled.txt\"\n",
        "train_file = \"Train_en_new_labelled.txt\"\n",
        "#file_tags_dev = \"Dev_tags.txt\"\n",
        "#X_tags_dev = list(open(file_tags_dev, \"r\", encoding='utf-8').readlines())\n",
        "#X_tags_dev = [s.strip() for s in X_tags_dev]\n",
        "\n",
        "X_test,Y_test = make_sets(test_file)\n",
        "#print (X_tags_dev[:100])\n",
        "X_train, Y_train = make_sets(train_file)"
      ],
      "execution_count": 8,
      "outputs": [
        {
          "output_type": "stream",
          "text": [
            "length of X:  49859 length of Y:  49859\n",
            "length of X:  904057 length of Y:  904057\n"
          ],
          "name": "stdout"
        }
      ]
    },
    {
      "cell_type": "code",
      "metadata": {
        "id": "SGoVDcjunHmv",
        "colab_type": "code",
        "colab": {}
      },
      "source": [
        ""
      ],
      "execution_count": 0,
      "outputs": []
    },
    {
      "cell_type": "code",
      "metadata": {
        "id": "O7SKKRQe37Nj",
        "colab_type": "code",
        "outputId": "b7444b12-503a-4a4a-9d9d-d5b692ed1a32",
        "colab": {
          "base_uri": "https://localhost:8080/",
          "height": 173
        }
      },
      "source": [
        "from sklearn.feature_extraction.text import TfidfTransformer, TfidfVectorizer\n",
        "\n",
        "all_X = X_train + X_test\n",
        "tfidf_vect = TfidfVectorizer()#analyzer='word', token_pattern=r'\\w{1,}', max_features=5000)\n",
        "tfidf_vect.fit(all_X)\n",
        "\n",
        "xtrain_tfidf =  tfidf_vect.transform(X_train)\n",
        "xvalid_tfidf =  tfidf_vect.transform(X_test)\n",
        "\n",
        "print(xtrain_tfidf.shape)\n",
        "print(xvalid_tfidf.shape)\n",
        "print(xtrain_tfidf[:10])\n",
        "\n"
      ],
      "execution_count": 9,
      "outputs": [
        {
          "output_type": "stream",
          "text": [
            "(904057, 9719)\n",
            "(49859, 9719)\n",
            "  (0, 5106)\t1.0\n",
            "  (1, 4314)\t1.0\n",
            "  (3, 8310)\t1.0\n",
            "  (4, 9421)\t1.0\n",
            "  (5, 1824)\t1.0\n",
            "  (7, 7013)\t1.0\n",
            "  (8, 7287)\t1.0\n"
          ],
          "name": "stdout"
        }
      ]
    },
    {
      "cell_type": "code",
      "metadata": {
        "id": "OQwq_ZnJoyOU",
        "colab_type": "code",
        "colab": {}
      },
      "source": [
        "print (xtrain_tfidf[:100])"
      ],
      "execution_count": 0,
      "outputs": []
    },
    {
      "cell_type": "code",
      "metadata": {
        "id": "JzWkQCvYoegp",
        "colab_type": "code",
        "outputId": "6cafb23e-35f5-47dd-e098-6e34f6a3e033",
        "colab": {
          "base_uri": "https://localhost:8080/",
          "height": 52
        }
      },
      "source": [
        "from keras.models import Sequential\n",
        "from keras.layers import Dense, Dropout, Activation\n",
        "from keras.layers import Embedding\n",
        "from keras.layers import Conv1D, GlobalMaxPooling1D\n",
        "from keras.preprocessing.text import Tokenizer\n",
        "from keras.preprocessing import sequence\n",
        "from sklearn.preprocessing import LabelEncoder\n",
        "import time\n",
        "from keras import metrics\n",
        "print('import done')\n"
      ],
      "execution_count": 10,
      "outputs": [
        {
          "output_type": "stream",
          "text": [
            "Using TensorFlow backend.\n"
          ],
          "name": "stderr"
        },
        {
          "output_type": "stream",
          "text": [
            "import done\n"
          ],
          "name": "stdout"
        }
      ]
    },
    {
      "cell_type": "code",
      "metadata": {
        "id": "gm4GSOl5Brl7",
        "colab_type": "code",
        "colab": {}
      },
      "source": [
        "from keras.utils import np_utils\n",
        "le = LabelEncoder()\n",
        "Y_test = le.fit_transform(Y_test)\n",
        "Y_test_cat = np_utils.to_categorical(Y_test, 3)\n",
        "Y_train = le.fit_transform(Y_train)\n",
        "Y_train_cat = np_utils.to_categorical(Y_train, 3)\n",
        "#X_tags = le.fit_transform(X_tags_dev)\n",
        "\n",
        "print (Y_train_cat[:10])"
      ],
      "execution_count": 0,
      "outputs": []
    },
    {
      "cell_type": "markdown",
      "metadata": {
        "id": "eis7pxRWx807",
        "colab_type": "text"
      },
      "source": [
        ""
      ]
    },
    {
      "cell_type": "code",
      "metadata": {
        "id": "l0UGJwgi4Eu4",
        "colab_type": "code",
        "outputId": "5505f75e-58d9-45a4-d5ef-2c57a6956145",
        "colab": {
          "base_uri": "https://localhost:8080/",
          "height": 159
        }
      },
      "source": [
        "def get_simple_model():\n",
        "    model = Sequential()\n",
        "    model.add(Dense(512, activation='relu', input_shape=(9719,)))\n",
        "    model.add(Dropout(0.2))\n",
        "    model.add(Dense(256, activation='relu'))\n",
        "    model.add(Dropout(0.2))\n",
        "    model.add(Dense(3, activation='sigmoid'))\n",
        "    model.compile(loss='categorical_crossentropy',\n",
        "              optimizer='adam',\n",
        "              metrics=['acc',metrics.binary_accuracy])\n",
        "    print('compile done')\n",
        "    return model\n",
        "\n",
        "  \n",
        "def check_model(model,x_train,y_train,x_val,y_val):\n",
        "    model.fit(x_train,y_train,batch_size=32,epochs=5,verbose=1,validation_data=(x_val, y_val))\n",
        "    \n",
        "m = get_simple_model()\n",
        "check_model(m,xtrain_tfidf,Y_train_cat, xvalid_tfidf, Y_test_cat)"
      ],
      "execution_count": 0,
      "outputs": [
        {
          "output_type": "stream",
          "text": [
            "compile done\n",
            "WARNING:tensorflow:From /usr/local/lib/python3.6/dist-packages/tensorflow/python/ops/math_ops.py:3066: to_int32 (from tensorflow.python.ops.math_ops) is deprecated and will be removed in a future version.\n",
            "Instructions for updating:\n",
            "Use tf.cast instead.\n",
            "Train on 904057 samples, validate on 49859 samples\n",
            "Epoch 1/5\n",
            "488896/904057 [===============>..............] - ETA: 20:46 - loss: 0.1786 - acc: 0.9503 - binary_accuracy: 0.9666"
          ],
          "name": "stdout"
        }
      ]
    },
    {
      "cell_type": "markdown",
      "metadata": {
        "id": "6bKhOQKk-56x",
        "colab_type": "text"
      },
      "source": [
        "**Code not tested not to execute yet:**"
      ]
    },
    {
      "cell_type": "code",
      "metadata": {
        "id": "nd8_jrRKJsdu",
        "colab_type": "code",
        "outputId": "7d1f00b5-9746-49c3-808c-ecec0a2807dc",
        "colab": {
          "base_uri": "https://localhost:8080/",
          "height": 3647
        }
      },
      "source": [
        "y_train_predclass = m.predict_classes(x_train_tfidf ,batch_size=batch_size)\n",
        "y_test_predclass = m.predict_classes(x_valid_tfidf,batch_size=batch_size)\n",
        "from sklearn.metrics import accuracy_score,classification_report\n",
        "\n",
        "print (\"nnDeep Neural Network - Train accuracy:\"),(round(accuracy_score( Y_train_cat, y_train_predclass),3))\n",
        "print (\"nDeep Neural Network - Test accuracy:\"),(round(accuracy_score( Y_test_cat,y_test_predclass),3))\n",
        "print (\"nDeep Neural Network - Train Classification Report\")\n",
        "print (classification_report(Y_train_cat,y_train_predclass))\n",
        "print (\"nDeep Neural Network - Test Classification Report\")\n",
        "print (classification_report(Y_test_cat,y_test_predclass))\n",
        "\n",
        "\n",
        "X_to_predict = X_tags[:200]\n",
        "Y_test_last200 = Y_test[:200]\n",
        "print (X_to_predict)\n",
        "predictions = m.predict(X_to_predict)\n",
        "#print (Y_test_cat[:200])\n",
        "print (\"Predictions: \", predictions)"
      ],
      "execution_count": 0,
      "outputs": [
        {
          "output_type": "stream",
          "text": [
            "[19 19 19 19 14 18 19 18 14  9 18 19  6 19  6 19  5 19  7  9 19 19 19  9\n",
            " 19 13 10 21 18 37 26 14 13 24 37 35 13 10 18 13 10 16 14 14 18 13 19 19\n",
            " 19  3 10 18 19 19  4 34 10 14 18  7 18  8 10 18 13 10 16 18  7 14 18  5\n",
            " 13 35 13 14 14 18  6 10 21 18 13 10 19  3 10 18 19 19  4  8 10 14 14  8\n",
            " 14  7 14 21 17 32 35 14 13 18 13 10 34 21  8 21 21  6 24 37 35 31 32 18\n",
            " 13 10 18 38 37 26 35 13 10 19  5 10 21 35 26  5 10 16 14 18  8 10 14 18\n",
            "  7 14 18  6 10 14 18 13 10 19 37 34  6 19 19 19 19  3 10 18 19 19  4 37\n",
            " 10 14 18 18 19 18 18  3 14 19 19  4 33 13 19 24 13 10 19 18 13  9 19  9\n",
            " 13 21 13 14 18  3 10 18]\n",
            "Predictions:  [[1.6342312e-02 0.0000000e+00 9.8387313e-01]\n",
            " [1.6342312e-02 0.0000000e+00 9.8387313e-01]\n",
            " [1.6342312e-02 0.0000000e+00 9.8387313e-01]\n",
            " [1.6342312e-02 0.0000000e+00 9.8387313e-01]\n",
            " [3.3486545e-02 0.0000000e+00 9.6524340e-01]\n",
            " [1.7812610e-02 0.0000000e+00 9.8236084e-01]\n",
            " [1.6342312e-02 0.0000000e+00 9.8387313e-01]\n",
            " [1.7812610e-02 0.0000000e+00 9.8236084e-01]\n",
            " [3.3486545e-02 0.0000000e+00 9.6524340e-01]\n",
            " [7.3876858e-02 6.4000487e-04 9.1888976e-01]\n",
            " [1.7812610e-02 0.0000000e+00 9.8236084e-01]\n",
            " [1.6342312e-02 0.0000000e+00 9.8387313e-01]\n",
            " [4.2683184e-03 7.1322834e-01 3.1109321e-01]\n",
            " [1.6342312e-02 0.0000000e+00 9.8387313e-01]\n",
            " [4.2683184e-03 7.1322834e-01 3.1109321e-01]\n",
            " [1.6342312e-02 0.0000000e+00 9.8387313e-01]\n",
            " [4.0493906e-03 1.3739228e-02 9.8009098e-01]\n",
            " [1.6342312e-02 0.0000000e+00 9.8387313e-01]\n",
            " [2.1211177e-02 9.7686082e-02 8.4662795e-01]\n",
            " [7.3876858e-02 6.4000487e-04 9.1888976e-01]\n",
            " [1.6342312e-02 0.0000000e+00 9.8387313e-01]\n",
            " [1.6342312e-02 0.0000000e+00 9.8387313e-01]\n",
            " [1.6342312e-02 0.0000000e+00 9.8387313e-01]\n",
            " [7.3876858e-02 6.4000487e-04 9.1888976e-01]\n",
            " [1.6342312e-02 0.0000000e+00 9.8387313e-01]\n",
            " [4.0958047e-02 8.9406967e-08 9.5784891e-01]\n",
            " [7.6454371e-02 6.9767237e-05 9.2656767e-01]\n",
            " [1.4084816e-02 0.0000000e+00 9.8621196e-01]\n",
            " [1.7812610e-02 0.0000000e+00 9.8236084e-01]\n",
            " [3.8474500e-03 0.0000000e+00 9.9654758e-01]\n",
            " [9.6180737e-03 0.0000000e+00 9.9084020e-01]\n",
            " [3.3486545e-02 0.0000000e+00 9.6524340e-01]\n",
            " [4.0958047e-02 8.9406967e-08 9.5784891e-01]\n",
            " [1.1252910e-02 0.0000000e+00 9.8916250e-01]\n",
            " [3.8474500e-03 0.0000000e+00 9.9654758e-01]\n",
            " [4.5809448e-03 0.0000000e+00 9.9584413e-01]\n",
            " [4.0958047e-02 8.9406967e-08 9.5784891e-01]\n",
            " [7.6454371e-02 6.9767237e-05 9.2656767e-01]\n",
            " [1.7812610e-02 0.0000000e+00 9.8236084e-01]\n",
            " [4.0958047e-02 8.9406967e-08 9.5784891e-01]\n",
            " [7.6454371e-02 6.9767237e-05 9.2656767e-01]\n",
            " [2.3506939e-02 0.0000000e+00 9.7627676e-01]\n",
            " [3.3486545e-02 0.0000000e+00 9.6524340e-01]\n",
            " [3.3486545e-02 0.0000000e+00 9.6524340e-01]\n",
            " [1.7812610e-02 0.0000000e+00 9.8236084e-01]\n",
            " [4.0958047e-02 8.9406967e-08 9.5784891e-01]\n",
            " [1.6342312e-02 0.0000000e+00 9.8387313e-01]\n",
            " [1.6342312e-02 0.0000000e+00 9.8387313e-01]\n",
            " [1.6342312e-02 0.0000000e+00 9.8387313e-01]\n",
            " [6.8314821e-02 2.8610229e-04 9.3547058e-01]\n",
            " [7.6454371e-02 6.9767237e-05 9.2656767e-01]\n",
            " [1.7812610e-02 0.0000000e+00 9.8236084e-01]\n",
            " [1.6342312e-02 0.0000000e+00 9.8387313e-01]\n",
            " [1.6342312e-02 0.0000000e+00 9.8387313e-01]\n",
            " [1.5885472e-02 1.4288425e-03 9.7830069e-01]\n",
            " [4.9895644e-03 0.0000000e+00 9.9544907e-01]\n",
            " [7.6454371e-02 6.9767237e-05 9.2656767e-01]\n",
            " [3.3486545e-02 0.0000000e+00 9.6524340e-01]\n",
            " [1.7812610e-02 0.0000000e+00 9.8236084e-01]\n",
            " [2.1211177e-02 9.7686082e-02 8.4662795e-01]\n",
            " [1.7812610e-02 0.0000000e+00 9.8236084e-01]\n",
            " [4.1870952e-02 6.3103735e-03 9.1999388e-01]\n",
            " [7.6454371e-02 6.9767237e-05 9.2656767e-01]\n",
            " [1.7812610e-02 0.0000000e+00 9.8236084e-01]\n",
            " [4.0958047e-02 8.9406967e-08 9.5784891e-01]\n",
            " [7.6454371e-02 6.9767237e-05 9.2656767e-01]\n",
            " [2.3506939e-02 0.0000000e+00 9.7627676e-01]\n",
            " [1.7812610e-02 0.0000000e+00 9.8236084e-01]\n",
            " [2.1211177e-02 9.7686082e-02 8.4662795e-01]\n",
            " [3.3486545e-02 0.0000000e+00 9.6524340e-01]\n",
            " [1.7812610e-02 0.0000000e+00 9.8236084e-01]\n",
            " [4.0493906e-03 1.3739228e-02 9.8009098e-01]\n",
            " [4.0958047e-02 8.9406967e-08 9.5784891e-01]\n",
            " [4.5809448e-03 0.0000000e+00 9.9584413e-01]\n",
            " [4.0958047e-02 8.9406967e-08 9.5784891e-01]\n",
            " [3.3486545e-02 0.0000000e+00 9.6524340e-01]\n",
            " [3.3486545e-02 0.0000000e+00 9.6524340e-01]\n",
            " [1.7812610e-02 0.0000000e+00 9.8236084e-01]\n",
            " [4.2683184e-03 7.1322834e-01 3.1109321e-01]\n",
            " [7.6454371e-02 6.9767237e-05 9.2656767e-01]\n",
            " [1.4084816e-02 0.0000000e+00 9.8621196e-01]\n",
            " [1.7812610e-02 0.0000000e+00 9.8236084e-01]\n",
            " [4.0958047e-02 8.9406967e-08 9.5784891e-01]\n",
            " [7.6454371e-02 6.9767237e-05 9.2656767e-01]\n",
            " [1.6342312e-02 0.0000000e+00 9.8387313e-01]\n",
            " [6.8314821e-02 2.8610229e-04 9.3547058e-01]\n",
            " [7.6454371e-02 6.9767237e-05 9.2656767e-01]\n",
            " [1.7812610e-02 0.0000000e+00 9.8236084e-01]\n",
            " [1.6342312e-02 0.0000000e+00 9.8387313e-01]\n",
            " [1.6342312e-02 0.0000000e+00 9.8387313e-01]\n",
            " [1.5885472e-02 1.4288425e-03 9.7830069e-01]\n",
            " [4.1870952e-02 6.3103735e-03 9.1999388e-01]\n",
            " [7.6454371e-02 6.9767237e-05 9.2656767e-01]\n",
            " [3.3486545e-02 0.0000000e+00 9.6524340e-01]\n",
            " [3.3486545e-02 0.0000000e+00 9.6524340e-01]\n",
            " [4.1870952e-02 6.3103735e-03 9.1999388e-01]\n",
            " [3.3486545e-02 0.0000000e+00 9.6524340e-01]\n",
            " [2.1211177e-02 9.7686082e-02 8.4662795e-01]\n",
            " [3.3486545e-02 0.0000000e+00 9.6524340e-01]\n",
            " [1.4084816e-02 0.0000000e+00 9.8621196e-01]\n",
            " [2.0159870e-02 0.0000000e+00 9.7988427e-01]\n",
            " [5.9138536e-03 0.0000000e+00 9.9454814e-01]\n",
            " [4.5809448e-03 0.0000000e+00 9.9584413e-01]\n",
            " [3.3486545e-02 0.0000000e+00 9.6524340e-01]\n",
            " [4.0958047e-02 8.9406967e-08 9.5784891e-01]\n",
            " [1.7812610e-02 0.0000000e+00 9.8236084e-01]\n",
            " [4.0958047e-02 8.9406967e-08 9.5784891e-01]\n",
            " [7.6454371e-02 6.9767237e-05 9.2656767e-01]\n",
            " [4.9895644e-03 0.0000000e+00 9.9544907e-01]\n",
            " [1.4084816e-02 0.0000000e+00 9.8621196e-01]\n",
            " [4.1870952e-02 6.3103735e-03 9.1999388e-01]\n",
            " [1.4084816e-02 0.0000000e+00 9.8621196e-01]\n",
            " [1.4084816e-02 0.0000000e+00 9.8621196e-01]\n",
            " [4.2683184e-03 7.1322834e-01 3.1109321e-01]\n",
            " [1.1252910e-02 0.0000000e+00 9.8916250e-01]\n",
            " [3.8474500e-03 0.0000000e+00 9.9654758e-01]\n",
            " [4.5809448e-03 0.0000000e+00 9.9584413e-01]\n",
            " [6.4159632e-03 0.0000000e+00 9.9405366e-01]\n",
            " [5.9138536e-03 0.0000000e+00 9.9454814e-01]\n",
            " [1.7812610e-02 0.0000000e+00 9.8236084e-01]\n",
            " [4.0958047e-02 8.9406967e-08 9.5784891e-01]\n",
            " [7.6454371e-02 6.9767237e-05 9.2656767e-01]\n",
            " [1.7812610e-02 0.0000000e+00 9.8236084e-01]\n",
            " [3.5192668e-03 0.0000000e+00 9.9685919e-01]\n",
            " [3.8474500e-03 0.0000000e+00 9.9654758e-01]\n",
            " [9.6180737e-03 0.0000000e+00 9.9084020e-01]\n",
            " [4.5809448e-03 0.0000000e+00 9.9584413e-01]\n",
            " [4.0958047e-02 8.9406967e-08 9.5784891e-01]\n",
            " [7.6454371e-02 6.9767237e-05 9.2656767e-01]\n",
            " [1.6342312e-02 0.0000000e+00 9.8387313e-01]\n",
            " [4.0493906e-03 1.3739228e-02 9.8009098e-01]\n",
            " [7.6454371e-02 6.9767237e-05 9.2656767e-01]\n",
            " [1.4084816e-02 0.0000000e+00 9.8621196e-01]\n",
            " [4.5809448e-03 0.0000000e+00 9.9584413e-01]\n",
            " [9.6180737e-03 0.0000000e+00 9.9084020e-01]\n",
            " [4.0493906e-03 1.3739228e-02 9.8009098e-01]\n",
            " [7.6454371e-02 6.9767237e-05 9.2656767e-01]\n",
            " [2.3506939e-02 0.0000000e+00 9.7627676e-01]\n",
            " [3.3486545e-02 0.0000000e+00 9.6524340e-01]\n",
            " [1.7812610e-02 0.0000000e+00 9.8236084e-01]\n",
            " [4.1870952e-02 6.3103735e-03 9.1999388e-01]\n",
            " [7.6454371e-02 6.9767237e-05 9.2656767e-01]\n",
            " [3.3486545e-02 0.0000000e+00 9.6524340e-01]\n",
            " [1.7812610e-02 0.0000000e+00 9.8236084e-01]\n",
            " [2.1211177e-02 9.7686082e-02 8.4662795e-01]\n",
            " [3.3486545e-02 0.0000000e+00 9.6524340e-01]\n",
            " [1.7812610e-02 0.0000000e+00 9.8236084e-01]\n",
            " [4.2683184e-03 7.1322834e-01 3.1109321e-01]\n",
            " [7.6454371e-02 6.9767237e-05 9.2656767e-01]\n",
            " [3.3486545e-02 0.0000000e+00 9.6524340e-01]\n",
            " [1.7812610e-02 0.0000000e+00 9.8236084e-01]\n",
            " [4.0958047e-02 8.9406967e-08 9.5784891e-01]\n",
            " [7.6454371e-02 6.9767237e-05 9.2656767e-01]\n",
            " [1.6342312e-02 0.0000000e+00 9.8387313e-01]\n",
            " [3.8474500e-03 0.0000000e+00 9.9654758e-01]\n",
            " [4.9895644e-03 0.0000000e+00 9.9544907e-01]\n",
            " [4.2683184e-03 7.1322834e-01 3.1109321e-01]\n",
            " [1.6342312e-02 0.0000000e+00 9.8387313e-01]\n",
            " [1.6342312e-02 0.0000000e+00 9.8387313e-01]\n",
            " [1.6342312e-02 0.0000000e+00 9.8387313e-01]\n",
            " [1.6342312e-02 0.0000000e+00 9.8387313e-01]\n",
            " [6.8314821e-02 2.8610229e-04 9.3547058e-01]\n",
            " [7.6454371e-02 6.9767237e-05 9.2656767e-01]\n",
            " [1.7812610e-02 0.0000000e+00 9.8236084e-01]\n",
            " [1.6342312e-02 0.0000000e+00 9.8387313e-01]\n",
            " [1.6342312e-02 0.0000000e+00 9.8387313e-01]\n",
            " [1.5885472e-02 1.4288425e-03 9.7830069e-01]\n",
            " [3.8474500e-03 0.0000000e+00 9.9654758e-01]\n",
            " [7.6454371e-02 6.9767237e-05 9.2656767e-01]\n",
            " [3.3486545e-02 0.0000000e+00 9.6524340e-01]\n",
            " [1.7812610e-02 0.0000000e+00 9.8236084e-01]\n",
            " [1.7812610e-02 0.0000000e+00 9.8236084e-01]\n",
            " [1.6342312e-02 0.0000000e+00 9.8387313e-01]\n",
            " [1.7812610e-02 0.0000000e+00 9.8236084e-01]\n",
            " [1.7812610e-02 0.0000000e+00 9.8236084e-01]\n",
            " [6.8314821e-02 2.8610229e-04 9.3547058e-01]\n",
            " [3.3486545e-02 0.0000000e+00 9.6524340e-01]\n",
            " [1.6342312e-02 0.0000000e+00 9.8387313e-01]\n",
            " [1.6342312e-02 0.0000000e+00 9.8387313e-01]\n",
            " [1.5885472e-02 1.4288425e-03 9.7830069e-01]\n",
            " [5.4329634e-03 0.0000000e+00 9.9501806e-01]\n",
            " [4.0958047e-02 8.9406967e-08 9.5784891e-01]\n",
            " [1.6342312e-02 0.0000000e+00 9.8387313e-01]\n",
            " [1.1252910e-02 0.0000000e+00 9.8916250e-01]\n",
            " [4.0958047e-02 8.9406967e-08 9.5784891e-01]\n",
            " [7.6454371e-02 6.9767237e-05 9.2656767e-01]\n",
            " [1.6342312e-02 0.0000000e+00 9.8387313e-01]\n",
            " [1.7812610e-02 0.0000000e+00 9.8236084e-01]\n",
            " [4.0958047e-02 8.9406967e-08 9.5784891e-01]\n",
            " [7.3876858e-02 6.4000487e-04 9.1888976e-01]\n",
            " [1.6342312e-02 0.0000000e+00 9.8387313e-01]\n",
            " [7.3876858e-02 6.4000487e-04 9.1888976e-01]\n",
            " [4.0958047e-02 8.9406967e-08 9.5784891e-01]\n",
            " [1.4084816e-02 0.0000000e+00 9.8621196e-01]\n",
            " [4.0958047e-02 8.9406967e-08 9.5784891e-01]\n",
            " [3.3486545e-02 0.0000000e+00 9.6524340e-01]\n",
            " [1.7812610e-02 0.0000000e+00 9.8236084e-01]\n",
            " [6.8314821e-02 2.8610229e-04 9.3547070e-01]\n",
            " [7.6454371e-02 6.9767237e-05 9.2656767e-01]\n",
            " [1.7812610e-02 0.0000000e+00 9.8236084e-01]]\n"
          ],
          "name": "stdout"
        }
      ]
    }
  ]
}